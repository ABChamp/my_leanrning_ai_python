{
  "cells": [
    {
      "cell_type": "markdown",
      "source": [
        "Thank you: https://www.kaggle.com/sayakdasgupta/introduction-to-gans-on-fashion-mnist-dataset/ for learning"
      ],
      "metadata": {
        "nteract": {
          "transient": {
            "deleting": false
          }
        }
      }
    },
    {
      "cell_type": "code",
      "source": [
        "import numpy as np\n",
        "import pandas as pd\n",
        "import matplotlib.pyplot as plt"
      ],
      "outputs": [],
      "execution_count": 1,
      "metadata": {
        "collapsed": true,
        "outputExpanded": false,
        "jupyter": {
          "source_hidden": false,
          "outputs_hidden": false
        },
        "nteract": {
          "transient": {
            "deleting": false
          }
        },
        "execution": {
          "iopub.status.busy": "2020-05-02T15:31:22.706Z",
          "iopub.execute_input": "2020-05-02T15:31:22.712Z",
          "iopub.status.idle": "2020-05-02T15:31:23.645Z",
          "shell.execute_reply": "2020-05-02T15:31:23.689Z"
        }
      }
    },
    {
      "cell_type": "code",
      "source": [
        "import os\n",
        "for dirname, _, filenames in os.walk('./data/fashionmnist'):\n",
        "    for filename in filenames:\n",
        "        print(os.path.join(dirname, filename))"
      ],
      "outputs": [
        {
          "output_type": "stream",
          "name": "stdout",
          "text": [
            "./data/fashionmnist/t10k-images-idx3-ubyte\n",
            "./data/fashionmnist/fashion-mnist_test.csv\n",
            "./data/fashionmnist/t10k-labels-idx1-ubyte\n",
            "./data/fashionmnist/train-images-idx3-ubyte\n",
            "./data/fashionmnist/fashion-mnist_train.csv\n",
            "./data/fashionmnist/train-labels-idx1-ubyte\n"
          ]
        }
      ],
      "execution_count": 2,
      "metadata": {
        "collapsed": true,
        "outputExpanded": false,
        "jupyter": {
          "source_hidden": false,
          "outputs_hidden": false
        },
        "nteract": {
          "transient": {
            "deleting": false
          }
        },
        "execution": {
          "iopub.status.busy": "2020-05-02T15:31:23.654Z",
          "iopub.execute_input": "2020-05-02T15:31:23.660Z",
          "iopub.status.idle": "2020-05-02T15:31:23.670Z",
          "shell.execute_reply": "2020-05-02T15:31:23.692Z"
        }
      }
    },
    {
      "cell_type": "code",
      "source": [
        "from keras import preprocessing\n",
        "from keras.models import Sequential\n",
        "from keras.layers import Conv2D,Dropout,Dense,Flatten,Conv2DTranspose,BatchNormalization,LeakyReLU,Reshape\n",
        "import tensorflow as tf\n"
      ],
      "outputs": [
        {
          "output_type": "stream",
          "name": "stderr",
          "text": [
            "Using TensorFlow backend.\n"
          ]
        }
      ],
      "execution_count": 3,
      "metadata": {
        "collapsed": true,
        "outputExpanded": false,
        "jupyter": {
          "source_hidden": false,
          "outputs_hidden": false
        },
        "nteract": {
          "transient": {
            "deleting": false
          }
        },
        "execution": {
          "iopub.status.busy": "2020-05-02T15:31:23.680Z",
          "iopub.execute_input": "2020-05-02T15:31:23.685Z",
          "iopub.status.idle": "2020-05-02T15:31:27.650Z",
          "shell.execute_reply": "2020-05-02T15:31:27.672Z"
        }
      }
    },
    {
      "cell_type": "code",
      "source": [
        "from tensorflow.python.client import device_lib\n",
        "print(device_lib.list_local_devices())"
      ],
      "outputs": [
        {
          "output_type": "stream",
          "name": "stdout",
          "text": [
            "[name: \"/device:CPU:0\"\n",
            "device_type: \"CPU\"\n",
            "memory_limit: 268435456\n",
            "locality {\n",
            "}\n",
            "incarnation: 482904873889227450\n",
            ", name: \"/device:XLA_CPU:0\"\n",
            "device_type: \"XLA_CPU\"\n",
            "memory_limit: 17179869184\n",
            "locality {\n",
            "}\n",
            "incarnation: 5148194205131914782\n",
            "physical_device_desc: \"device: XLA_CPU device\"\n",
            "]\n"
          ]
        }
      ],
      "execution_count": 30,
      "metadata": {
        "collapsed": true,
        "outputExpanded": false,
        "jupyter": {
          "source_hidden": false,
          "outputs_hidden": false
        },
        "nteract": {
          "transient": {
            "deleting": false
          }
        },
        "execution": {
          "iopub.status.busy": "2020-05-02T15:52:55.326Z",
          "iopub.execute_input": "2020-05-02T15:52:55.332Z",
          "iopub.status.idle": "2020-05-02T15:52:55.347Z",
          "shell.execute_reply": "2020-05-02T15:52:55.354Z"
        }
      }
    },
    {
      "cell_type": "code",
      "source": [
        "train_data = pd.read_csv('./data/fashionmnist/fashion-mnist_train.csv')\n",
        "# train_data.head()"
      ],
      "outputs": [],
      "execution_count": 4,
      "metadata": {
        "collapsed": true,
        "outputExpanded": false,
        "jupyter": {
          "source_hidden": false,
          "outputs_hidden": false
        },
        "nteract": {
          "transient": {
            "deleting": false
          }
        },
        "execution": {
          "iopub.status.busy": "2020-05-02T15:31:27.660Z",
          "iopub.execute_input": "2020-05-02T15:31:27.666Z",
          "iopub.status.idle": "2020-05-02T15:31:32.468Z",
          "shell.execute_reply": "2020-05-02T15:31:32.477Z"
        }
      }
    },
    {
      "cell_type": "code",
      "source": [
        "X_train = train_data.drop('label', axis=1)\n",
        "# X_train.head()"
      ],
      "outputs": [],
      "execution_count": 5,
      "metadata": {
        "collapsed": true,
        "outputExpanded": false,
        "jupyter": {
          "source_hidden": false,
          "outputs_hidden": false
        },
        "nteract": {
          "transient": {
            "deleting": false
          }
        },
        "execution": {
          "iopub.status.busy": "2020-05-02T15:31:32.719Z",
          "iopub.execute_input": "2020-05-02T15:31:32.725Z",
          "iopub.status.idle": "2020-05-02T15:31:32.733Z",
          "shell.execute_reply": "2020-05-02T15:31:32.847Z"
        }
      }
    },
    {
      "cell_type": "code",
      "source": [
        "X_train=X_train.values\n",
        "print(X_train.shape)"
      ],
      "outputs": [
        {
          "output_type": "stream",
          "name": "stdout",
          "text": [
            "(60000, 784)\n"
          ]
        }
      ],
      "execution_count": 6,
      "metadata": {
        "collapsed": true,
        "outputExpanded": false,
        "jupyter": {
          "source_hidden": false,
          "outputs_hidden": false
        },
        "nteract": {
          "transient": {
            "deleting": false
          }
        },
        "execution": {
          "iopub.status.busy": "2020-05-02T15:31:32.743Z",
          "iopub.execute_input": "2020-05-02T15:31:32.748Z",
          "iopub.status.idle": "2020-05-02T15:31:32.760Z",
          "shell.execute_reply": "2020-05-02T15:31:32.851Z"
        }
      }
    },
    {
      "cell_type": "code",
      "source": [
        "X_train = X_train.reshape(-1, 28, 28, 1) # what\n",
        "print(X_train.shape)\n",
        "# a number of image, row, column, ??"
      ],
      "outputs": [
        {
          "output_type": "stream",
          "name": "stdout",
          "text": [
            "(60000, 28, 28, 1)\n"
          ]
        }
      ],
      "execution_count": 7,
      "metadata": {
        "collapsed": true,
        "outputExpanded": false,
        "jupyter": {
          "source_hidden": false,
          "outputs_hidden": false
        },
        "nteract": {
          "transient": {
            "deleting": false
          }
        },
        "execution": {
          "iopub.status.busy": "2020-05-02T15:31:32.770Z",
          "iopub.execute_input": "2020-05-02T15:31:32.776Z",
          "iopub.status.idle": "2020-05-02T15:31:32.788Z",
          "shell.execute_reply": "2020-05-02T15:31:32.854Z"
        }
      }
    },
    {
      "cell_type": "code",
      "source": [
        "print(X_train.ndim)"
      ],
      "outputs": [
        {
          "output_type": "stream",
          "name": "stdout",
          "text": [
            "4\n"
          ]
        }
      ],
      "execution_count": 8,
      "metadata": {
        "collapsed": true,
        "outputExpanded": false,
        "jupyter": {
          "source_hidden": false,
          "outputs_hidden": false
        },
        "nteract": {
          "transient": {
            "deleting": false
          }
        },
        "execution": {
          "iopub.status.busy": "2020-05-02T15:31:32.797Z",
          "iopub.execute_input": "2020-05-02T15:31:32.803Z",
          "iopub.status.idle": "2020-05-02T15:31:32.814Z",
          "shell.execute_reply": "2020-05-02T15:31:32.857Z"
        }
      }
    },
    {
      "cell_type": "code",
      "source": [
        "fig,axe = plt.subplots(2, 2)\n",
        "idx = 0\n",
        "for i in range(2):\n",
        "  for j in range(2):\n",
        "    axe[i,j].imshow(X_train[idx].reshape(28, 28), cmap='gray')\n",
        "    idx+=1"
      ],
      "outputs": [
        {
          "output_type": "display_data",
          "data": {
            "text/plain": [
              "<Figure size 432x288 with 4 Axes>"
            ],
            "image/png": "[encoded data removed]"
          },
          "metadata": {
            "needs_background": "light"
          }
        }
      ],
      "execution_count": 9,
      "metadata": {
        "collapsed": true,
        "outputExpanded": false,
        "jupyter": {
          "source_hidden": false,
          "outputs_hidden": false
        },
        "nteract": {
          "transient": {
            "deleting": false
          }
        },
        "execution": {
          "iopub.status.busy": "2020-05-02T15:31:32.824Z",
          "iopub.execute_input": "2020-05-02T15:31:32.832Z",
          "iopub.status.idle": "2020-05-02T15:31:33.222Z",
          "shell.execute_reply": "2020-05-02T15:31:33.249Z"
        }
      }
    },
    {
      "cell_type": "code",
      "source": [
        "X_train = X_train.astype('float32')"
      ],
      "outputs": [],
      "execution_count": 10,
      "metadata": {
        "collapsed": true,
        "outputExpanded": false,
        "jupyter": {
          "source_hidden": false,
          "outputs_hidden": false
        },
        "nteract": {
          "transient": {
            "deleting": false
          }
        },
        "execution": {
          "iopub.status.busy": "2020-05-02T15:31:33.230Z",
          "iopub.execute_input": "2020-05-02T15:31:33.235Z",
          "iopub.status.idle": "2020-05-02T15:31:33.411Z",
          "shell.execute_reply": "2020-05-02T15:31:33.437Z"
        }
      }
    },
    {
      "cell_type": "code",
      "source": [
        "# The pixel data ranges from 0 to 255 hence dividing each pixel by 255, ie, normalizing the data such that the range is within 0 to 1\n",
        "X_train = X_train/255\n",
        "# Note after normalizing it is multiplied with 2 and subtracted from 1 such that it ranges from (-1, 1) because in DCGANs the last layer generative model activation is tanh which range is (-1, 1) inlike sigmoid ranging (0,1)\n",
        "X_train = X_train*2-1 "
      ],
      "outputs": [],
      "execution_count": 11,
      "metadata": {
        "collapsed": true,
        "outputExpanded": false,
        "jupyter": {
          "source_hidden": false,
          "outputs_hidden": false
        },
        "nteract": {
          "transient": {
            "deleting": false
          }
        },
        "execution": {
          "iopub.status.busy": "2020-05-02T15:31:33.420Z",
          "iopub.execute_input": "2020-05-02T15:31:33.426Z",
          "shell.execute_reply": "2020-05-02T15:31:33.742Z",
          "iopub.status.idle": "2020-05-02T15:31:33.721Z"
        }
      }
    },
    {
      "cell_type": "code",
      "source": [
        "print(X_train.max(), X_train.min())"
      ],
      "outputs": [
        {
          "output_type": "stream",
          "name": "stdout",
          "text": [
            "1.0 -1.0\n"
          ]
        }
      ],
      "execution_count": 12,
      "metadata": {
        "collapsed": true,
        "outputExpanded": false,
        "jupyter": {
          "source_hidden": false,
          "outputs_hidden": false
        },
        "nteract": {
          "transient": {
            "deleting": false
          }
        },
        "execution": {
          "iopub.status.busy": "2020-05-02T15:31:33.730Z",
          "iopub.execute_input": "2020-05-02T15:31:33.735Z",
          "iopub.status.idle": "2020-05-02T15:31:33.773Z",
          "shell.execute_reply": "2020-05-02T15:31:33.804Z"
        }
      }
    },
    {
      "cell_type": "markdown",
      "source": [
        "Simple GAN Model <br>\n",
        "Generative part"
      ],
      "metadata": {
        "nteract": {
          "transient": {
            "deleting": false
          }
        }
      }
    },
    {
      "cell_type": "code",
      "source": [
        "generator = Sequential()\n",
        "\n",
        "generator.add(Dense(512, input_shape=[100])) # what\n",
        "generator.add(LeakyReLU(alpha=0.2))\n",
        "generator.add(BatchNormalization(momentum=0.8))\n",
        "\n",
        "generator.add(Dense(256))\n",
        "generator.add(LeakyReLU(alpha=0.2))\n",
        "generator.add(BatchNormalization(momentum=0.8))\n",
        "\n",
        "generator.add(Dense(128))\n",
        "generator.add(LeakyReLU(alpha=0.2))\n",
        "generator.add(BatchNormalization(momentum=0.8))\n",
        "\n",
        "generator.add(Dense(784))\n",
        "generator.add(Reshape([28,28,1]))"
      ],
      "outputs": [],
      "execution_count": 13,
      "metadata": {
        "collapsed": true,
        "outputExpanded": false,
        "jupyter": {
          "source_hidden": false,
          "outputs_hidden": false
        },
        "nteract": {
          "transient": {
            "deleting": false
          }
        },
        "execution": {
          "iopub.status.busy": "2020-05-02T15:31:33.782Z",
          "iopub.execute_input": "2020-05-02T15:31:33.788Z",
          "iopub.status.idle": "2020-05-02T15:31:33.956Z",
          "shell.execute_reply": "2020-05-02T15:31:34.004Z"
        }
      }
    },
    {
      "cell_type": "code",
      "source": [
        "generator.summary()"
      ],
      "outputs": [
        {
          "output_type": "stream",
          "name": "stdout",
          "text": [
            "Model: \"sequential_1\"\n",
            "_________________________________________________________________\n",
            "Layer (type)                 Output Shape              Param #   \n",
            "=================================================================\n",
            "dense_1 (Dense)              (None, 512)               51712     \n",
            "_________________________________________________________________\n",
            "leaky_re_lu_1 (LeakyReLU)    (None, 512)               0         \n",
            "_________________________________________________________________\n",
            "batch_normalization_1 (Batch (None, 512)               2048      \n",
            "_________________________________________________________________\n",
            "dense_2 (Dense)              (None, 256)               131328    \n",
            "_________________________________________________________________\n",
            "leaky_re_lu_2 (LeakyReLU)    (None, 256)               0         \n",
            "_________________________________________________________________\n",
            "batch_normalization_2 (Batch (None, 256)               1024      \n",
            "_________________________________________________________________\n",
            "dense_3 (Dense)              (None, 128)               32896     \n",
            "_________________________________________________________________\n",
            "leaky_re_lu_3 (LeakyReLU)    (None, 128)               0         \n",
            "_________________________________________________________________\n",
            "batch_normalization_3 (Batch (None, 128)               512       \n",
            "_________________________________________________________________\n",
            "dense_4 (Dense)              (None, 784)               101136    \n",
            "_________________________________________________________________\n",
            "reshape_1 (Reshape)          (None, 28, 28, 1)         0         \n",
            "=================================================================\n",
            "Total params: 320,656\n",
            "Trainable params: 318,864\n",
            "Non-trainable params: 1,792\n",
            "_________________________________________________________________\n"
          ]
        }
      ],
      "execution_count": 14,
      "metadata": {
        "collapsed": true,
        "outputExpanded": false,
        "jupyter": {
          "source_hidden": false,
          "outputs_hidden": false
        },
        "nteract": {
          "transient": {
            "deleting": false
          }
        },
        "execution": {
          "iopub.status.busy": "2020-05-02T15:31:33.965Z",
          "iopub.execute_input": "2020-05-02T15:31:33.971Z",
          "iopub.status.idle": "2020-05-02T15:31:33.983Z",
          "shell.execute_reply": "2020-05-02T15:31:34.007Z"
        }
      }
    },
    {
      "cell_type": "code",
      "source": [
        "# Discriminatory part\n",
        "discriminator = Sequential()\n",
        "discriminator.add(Dense(1, input_shape=[28, 28, 1]))\n",
        "discriminator.add(Flatten()) # What is Flatten\n",
        "discriminator.add(Dense(256))\n",
        "discriminator.add(LeakyReLU(alpha=0.2))\n",
        "discriminator.add(Dropout(0.5))\n",
        "discriminator.add(Dense(128))\n",
        "discriminator.add(LeakyReLU(alpha=0.2))\n",
        "discriminator.add(Dropout(0.5)) # What is Dropout\n",
        "discriminator.add(Dense(64))\n",
        "discriminator.add(LeakyReLU(alpha=0.2))\n",
        "discriminator.add(Dropout(0.5)) # What is Dropout\n",
        "discriminator.add(Dense(1,activation='sigmoid'))"
      ],
      "outputs": [],
      "execution_count": 15,
      "metadata": {
        "collapsed": true,
        "outputExpanded": false,
        "jupyter": {
          "source_hidden": false,
          "outputs_hidden": false
        },
        "nteract": {
          "transient": {
            "deleting": false
          }
        },
        "execution": {
          "iopub.status.busy": "2020-05-02T15:31:33.991Z",
          "iopub.execute_input": "2020-05-02T15:31:33.997Z",
          "iopub.status.idle": "2020-05-02T15:31:34.060Z",
          "shell.execute_reply": "2020-05-02T15:31:34.097Z"
        }
      }
    },
    {
      "cell_type": "code",
      "source": [
        "discriminator.summary()"
      ],
      "outputs": [
        {
          "output_type": "stream",
          "name": "stdout",
          "text": [
            "Model: \"sequential_2\"\n",
            "_________________________________________________________________\n",
            "Layer (type)                 Output Shape              Param #   \n",
            "=================================================================\n",
            "dense_5 (Dense)              (None, 28, 28, 1)         2         \n",
            "_________________________________________________________________\n",
            "flatten_1 (Flatten)          (None, 784)               0         \n",
            "_________________________________________________________________\n",
            "dense_6 (Dense)              (None, 256)               200960    \n",
            "_________________________________________________________________\n",
            "leaky_re_lu_4 (LeakyReLU)    (None, 256)               0         \n",
            "_________________________________________________________________\n",
            "dropout_1 (Dropout)          (None, 256)               0         \n",
            "_________________________________________________________________\n",
            "dense_7 (Dense)              (None, 128)               32896     \n",
            "_________________________________________________________________\n",
            "leaky_re_lu_5 (LeakyReLU)    (None, 128)               0         \n",
            "_________________________________________________________________\n",
            "dropout_2 (Dropout)          (None, 128)               0         \n",
            "_________________________________________________________________\n",
            "dense_8 (Dense)              (None, 64)                8256      \n",
            "_________________________________________________________________\n",
            "leaky_re_lu_6 (LeakyReLU)    (None, 64)                0         \n",
            "_________________________________________________________________\n",
            "dropout_3 (Dropout)          (None, 64)                0         \n",
            "_________________________________________________________________\n",
            "dense_9 (Dense)              (None, 1)                 65        \n",
            "=================================================================\n",
            "Total params: 242,179\n",
            "Trainable params: 242,179\n",
            "Non-trainable params: 0\n",
            "_________________________________________________________________\n"
          ]
        }
      ],
      "execution_count": 16,
      "metadata": {
        "collapsed": true,
        "outputExpanded": false,
        "jupyter": {
          "source_hidden": false,
          "outputs_hidden": false
        },
        "nteract": {
          "transient": {
            "deleting": false
          }
        },
        "execution": {
          "iopub.status.busy": "2020-05-02T15:31:34.069Z",
          "iopub.execute_input": "2020-05-02T15:31:34.077Z",
          "iopub.status.idle": "2020-05-02T15:31:34.092Z",
          "shell.execute_reply": "2020-05-02T15:31:34.100Z"
        }
      }
    },
    {
      "cell_type": "markdown",
      "source": [
        "1. Compiling the discriminator layer <br>\n",
        "2. Compiling the GAN <br>\n",
        "NOTE: the generator layer is not compiled seperately because it gets trained as part of the combined model but training the discriminator is necessary because it is trained before the combined model."
      ],
      "metadata": {
        "nteract": {
          "transient": {
            "deleting": false
          }
        }
      }
    },
    {
      "cell_type": "code",
      "source": [
        "GAN = Sequential([generator, discriminator])\n",
        "discriminator.compile(optimizer='adam', loss='binary_crossentropy')\n",
        "discriminator.trainable = False"
      ],
      "outputs": [],
      "execution_count": 17,
      "metadata": {
        "collapsed": true,
        "outputExpanded": false,
        "jupyter": {
          "source_hidden": false,
          "outputs_hidden": false
        },
        "nteract": {
          "transient": {
            "deleting": false
          }
        },
        "execution": {
          "iopub.status.busy": "2020-05-02T15:31:35.129Z",
          "iopub.execute_input": "2020-05-02T15:31:35.134Z",
          "iopub.status.idle": "2020-05-02T15:31:35.294Z",
          "shell.execute_reply": "2020-05-02T15:31:35.299Z"
        }
      }
    },
    {
      "cell_type": "code",
      "source": [
        "GAN.compile(optimizer='adam', loss='binary_crossentropy')"
      ],
      "outputs": [],
      "execution_count": 18,
      "metadata": {
        "collapsed": true,
        "outputExpanded": false,
        "jupyter": {
          "source_hidden": false,
          "outputs_hidden": false
        },
        "nteract": {
          "transient": {
            "deleting": false
          }
        },
        "execution": {
          "iopub.status.busy": "2020-05-02T15:32:21.774Z",
          "iopub.execute_input": "2020-05-02T15:32:21.780Z",
          "iopub.status.idle": "2020-05-02T15:32:21.787Z",
          "shell.execute_reply": "2020-05-02T15:32:21.795Z"
        }
      }
    },
    {
      "cell_type": "code",
      "source": [
        "GAN.layers"
      ],
      "outputs": [
        {
          "output_type": "execute_result",
          "execution_count": 19,
          "data": {
            "text/plain": [
              "[<keras.engine.sequential.Sequential at 0x148263d10>,\n",
              " <keras.engine.sequential.Sequential at 0x1482d21d0>]"
            ]
          },
          "metadata": {}
        }
      ],
      "execution_count": 19,
      "metadata": {
        "collapsed": true,
        "outputExpanded": false,
        "jupyter": {
          "source_hidden": false,
          "outputs_hidden": false
        },
        "nteract": {
          "transient": {
            "deleting": false
          }
        },
        "execution": {
          "iopub.status.busy": "2020-05-02T15:32:26.570Z",
          "iopub.execute_input": "2020-05-02T15:32:26.576Z",
          "iopub.status.idle": "2020-05-02T15:32:26.588Z",
          "shell.execute_reply": "2020-05-02T15:32:26.593Z"
        }
      }
    },
    {
      "cell_type": "code",
      "source": [
        "GAN.summary()"
      ],
      "outputs": [
        {
          "output_type": "stream",
          "name": "stdout",
          "text": [
            "Model: \"sequential_3\"\n",
            "_________________________________________________________________\n",
            "Layer (type)                 Output Shape              Param #   \n",
            "=================================================================\n",
            "sequential_1 (Sequential)    (None, 28, 28, 1)         320656    \n",
            "_________________________________________________________________\n",
            "sequential_2 (Sequential)    (None, 1)                 242179    \n",
            "=================================================================\n",
            "Total params: 562,835\n",
            "Trainable params: 318,864\n",
            "Non-trainable params: 243,971\n",
            "_________________________________________________________________\n"
          ]
        }
      ],
      "execution_count": 20,
      "metadata": {
        "collapsed": true,
        "outputExpanded": false,
        "jupyter": {
          "source_hidden": false,
          "outputs_hidden": false
        },
        "nteract": {
          "transient": {
            "deleting": false
          }
        },
        "execution": {
          "iopub.status.busy": "2020-05-02T15:32:40.582Z",
          "iopub.execute_input": "2020-05-02T15:32:40.588Z",
          "iopub.status.idle": "2020-05-02T15:32:40.600Z",
          "shell.execute_reply": "2020-05-02T15:32:40.606Z"
        }
      }
    },
    {
      "cell_type": "code",
      "source": [
        "epochs = 30 # what is it ?\n",
        "batch_size = 100 # what is it ?\n",
        "noise_shape = 100 # what is it ?"
      ],
      "outputs": [],
      "execution_count": 21,
      "metadata": {
        "collapsed": true,
        "outputExpanded": false,
        "jupyter": {
          "source_hidden": false,
          "outputs_hidden": false
        },
        "nteract": {
          "transient": {
            "deleting": false
          }
        },
        "execution": {
          "iopub.status.busy": "2020-05-02T15:33:12.685Z",
          "iopub.execute_input": "2020-05-02T15:33:12.690Z",
          "iopub.status.idle": "2020-05-02T15:33:12.699Z",
          "shell.execute_reply": "2020-05-02T15:33:12.704Z"
        }
      }
    },
    {
      "cell_type": "code",
      "source": [
        "with tf.device('/device:CPU:0'):\n",
        "  for epoch in range(epochs):\n",
        "    print(f\"Currently on Epoch {epoch+1}\")\n",
        "    \n",
        "    for i in range(X_train.shape[0]//batch_size):\n",
        "      if (i+1)%50 == 0:\n",
        "        print(f\"\\tCurrently on batch number {i+1} of {X_train.shape[0]//batch_size}\")\n",
        "        # what\n",
        "        noise = np.random.normal(size=[batch_size, noise_shape])\n",
        "        \n",
        "        gen_image = generator.predict_on_batch(noise)\n",
        "        \n",
        "        train_dataset = X_train[i*batch_size:(i+1)*batch_size]\n",
        "        \n",
        "        # training discriminator on real images\n",
        "        train_label = np.ones(shape=(batch_size, 1))\n",
        "        discriminator.trainable = True\n",
        "        d_loss_real = discriminator.train_on_batch(train_dataset, train_label)\n",
        "        \n",
        "        # training discriminator on fake images\n",
        "        train_label=np.zeros(shape=(batch_size, 1))\n",
        "        d_loss_fake = discriminator.train_on_batch(gen_image,train_label)\n",
        "        \n",
        "        # training generator\n",
        "        noise=np.random.normal(size=[batch_size, noise_shape])\n",
        "        train_label=np.ones(shape=(batch_size, 1))\n",
        "        discriminator.trainable = False\n",
        "        d_g_loss_batch = GAN.train_on_batch(noise, train_label)\n",
        "      #plotting generated images at the start and then after every 10 epoch\n",
        "#       if epoch % 10 == 0:\n",
        "#         samples = 10\n",
        "#         x_fake = generator.predict(np.random.normal(loc=0, scale=1, size=(samples, 100)))\n",
        "        \n",
        "#         for k in range(samples):\n",
        "#           plt.subplot(2, 5, k+1)\n",
        "#           plt.imshow(x_fake[k].reshape(28, 28), cmap='gray')\n",
        "#           plt.xticks([])\n",
        "#           plt.yticks([])\n",
        "#         plt.tight_layout()\n",
        "#         plt.show()"
      ],
      "outputs": [],
      "execution_count": null,
      "metadata": {
        "collapsed": true,
        "outputExpanded": false,
        "jupyter": {
          "source_hidden": false,
          "outputs_hidden": false
        },
        "nteract": {
          "transient": {
            "deleting": false
          }
        },
        "execution": {
          "iopub.status.busy": "2020-05-02T15:54:46.998Z",
          "iopub.execute_input": "2020-05-02T15:54:47.005Z",
          "iopub.status.idle": "2020-05-02T15:54:57.144Z",
          "shell.execute_reply": "2020-05-02T15:54:57.166Z"
        }
      }
    },
    {
      "cell_type": "code",
      "source": [
        "noise=np.random.normal(size=[10,noise_shape])\n",
        "gen_image = generator.predict(noise)\n",
        "# noise generated using np.random.normal is given to as input to the generator. In the next step the generator produces batches of meaningful alike image from the random distribution."
      ],
      "outputs": [],
      "execution_count": 33,
      "metadata": {
        "collapsed": true,
        "outputExpanded": false,
        "jupyter": {
          "source_hidden": false,
          "outputs_hidden": false
        },
        "nteract": {
          "transient": {
            "deleting": false
          }
        },
        "execution": {
          "iopub.status.busy": "2020-05-02T15:55:20.950Z",
          "iopub.execute_input": "2020-05-02T15:55:20.958Z",
          "iopub.status.idle": "2020-05-02T15:55:20.990Z",
          "shell.execute_reply": "2020-05-02T15:55:20.998Z"
        }
      }
    },
    {
      "cell_type": "code",
      "source": [
        "plt.imshow(noise)\n",
        "plt.title('How the noise looks')"
      ],
      "outputs": [
        {
          "output_type": "execute_result",
          "execution_count": 34,
          "data": {
            "text/plain": [
              "Text(0.5, 1.0, 'How the noise looks')"
            ]
          },
          "metadata": {}
        },
        {
          "output_type": "display_data",
          "data": {
            "text/plain": [
              "<Figure size 432x288 with 1 Axes>"
            ],
            "image/png": "[encoded data removed]"
          },
          "metadata": {
            "needs_background": "light"
          }
        }
      ],
      "execution_count": 34,
      "metadata": {
        "collapsed": true,
        "outputExpanded": false,
        "jupyter": {
          "source_hidden": false,
          "outputs_hidden": false
        },
        "nteract": {
          "transient": {
            "deleting": false
          }
        },
        "execution": {
          "iopub.status.busy": "2020-05-02T15:55:30.812Z",
          "iopub.execute_input": "2020-05-02T15:55:30.821Z",
          "iopub.status.idle": "2020-05-02T15:55:30.917Z",
          "shell.execute_reply": "2020-05-02T15:55:30.934Z"
        }
      }
    },
    {
      "cell_type": "code",
      "source": [
        "fig,axe=plt.subplots(2,5)\n",
        "fig.suptitle('Generated Images from Noise using GANs')\n",
        "idx=0\n",
        "for i in range(2):\n",
        "    for j in range(5):\n",
        "         axe[i,j].imshow(gen_image[idx].reshape(28,28),cmap='gray')\n",
        "         idx+=1"
      ],
      "outputs": [
        {
          "output_type": "display_data",
          "data": {
            "text/plain": [
              "<Figure size 432x288 with 10 Axes>"
            ],
            "image/png": "[encoded data removed]"
          },
          "metadata": {
            "needs_background": "light"
          }
        }
      ],
      "execution_count": 36,
      "metadata": {
        "collapsed": true,
        "outputExpanded": false,
        "jupyter": {
          "source_hidden": false,
          "outputs_hidden": false
        },
        "nteract": {
          "transient": {
            "deleting": false
          }
        },
        "execution": {
          "iopub.status.busy": "2020-05-02T15:56:14.143Z",
          "iopub.execute_input": "2020-05-02T15:56:14.151Z",
          "iopub.status.idle": "2020-05-02T15:56:15.297Z",
          "shell.execute_reply": "2020-05-02T15:56:15.313Z"
        }
      }
    },
    {
      "cell_type": "code",
      "source": [],
      "outputs": [],
      "execution_count": null,
      "metadata": {
        "collapsed": true,
        "outputExpanded": false,
        "jupyter": {
          "source_hidden": false,
          "outputs_hidden": false
        },
        "nteract": {
          "transient": {
            "deleting": false
          }
        }
      }
    }
  ],
  "metadata": {
    "kernel_info": {
      "name": "python3"
    },
    "language_info": {
      "name": "python",
      "version": "3.7.6",
      "mimetype": "text/x-python",
      "codemirror_mode": {
        "name": "ipython",
        "version": 3
      },
      "pygments_lexer": "ipython3",
      "nbconvert_exporter": "python",
      "file_extension": ".py"
    },
    "kernelspec": {
      "argv": [
        "/Users/abchamp/nteract_venv/bin/python",
        "-m",
        "ipykernel_launcher",
        "-f",
        "{connection_file}"
      ],
      "display_name": "Python 3",
      "language": "python",
      "name": "python3"
    },
    "nteract": {
      "version": "0.23.1"
    }
  },
  "nbformat": 4,
  "nbformat_minor": 0
}